{
  "nbformat": 4,
  "nbformat_minor": 0,
  "metadata": {
    "colab": {
      "provenance": [],
      "gpuType": "T4",
      "authorship_tag": "ABX9TyN17jT5LrtD0xaBKGTQqD30",
      "include_colab_link": true
    },
    "kernelspec": {
      "name": "python3",
      "display_name": "Python 3"
    },
    "language_info": {
      "name": "python"
    },
    "accelerator": "GPU"
  },
  "cells": [
    {
      "cell_type": "markdown",
      "metadata": {
        "id": "view-in-github",
        "colab_type": "text"
      },
      "source": [
        "<a href=\"https://colab.research.google.com/github/jford59/RT1/blob/main/HW2/RT2_1.ipynb\" target=\"_parent\"><img src=\"https://colab.research.google.com/assets/colab-badge.svg\" alt=\"Open In Colab\"/></a>"
      ]
    },
    {
      "cell_type": "code",
      "execution_count": 1,
      "metadata": {
        "colab": {
          "base_uri": "https://localhost:8080/"
        },
        "id": "pNMLE79lSSma",
        "outputId": "7947ae87-1e75-46a9-b1fc-80c60bff7f92"
      },
      "outputs": [
        {
          "output_type": "stream",
          "name": "stdout",
          "text": [
            "Downloading https://www.cs.toronto.edu/~kriz/cifar-10-python.tar.gz to ./data/cifar-10-python.tar.gz\n"
          ]
        },
        {
          "output_type": "stream",
          "name": "stderr",
          "text": [
            "100%|██████████| 170498071/170498071 [00:03<00:00, 43151704.05it/s]\n"
          ]
        },
        {
          "output_type": "stream",
          "name": "stdout",
          "text": [
            "Extracting ./data/cifar-10-python.tar.gz to ./data\n",
            "Files already downloaded and verified\n",
            "Epoch [1/20], Training Loss: 1.597, Validation Loss: 1.281, Validation Accuracy: 53.52 %\n",
            "Epoch [2/20], Training Loss: 1.177, Validation Loss: 0.945, Validation Accuracy: 66.33 %\n",
            "Epoch [3/20], Training Loss: 0.968, Validation Loss: 1.059, Validation Accuracy: 64.86 %\n",
            "Epoch [4/20], Training Loss: 0.846, Validation Loss: 0.875, Validation Accuracy: 71.44 %\n",
            "Epoch [5/20], Training Loss: 0.756, Validation Loss: 0.773, Validation Accuracy: 75.74 %\n",
            "Epoch [6/20], Training Loss: 0.703, Validation Loss: 0.631, Validation Accuracy: 78.86 %\n",
            "Epoch [7/20], Training Loss: 0.640, Validation Loss: 0.694, Validation Accuracy: 77.73 %\n",
            "Epoch [8/20], Training Loss: 0.592, Validation Loss: 0.615, Validation Accuracy: 80.31 %\n",
            "Epoch [9/20], Training Loss: 0.551, Validation Loss: 0.553, Validation Accuracy: 82.45 %\n",
            "Epoch [10/20], Training Loss: 0.517, Validation Loss: 0.515, Validation Accuracy: 83.87 %\n",
            "Epoch [11/20], Training Loss: 0.487, Validation Loss: 0.522, Validation Accuracy: 83.35 %\n",
            "Epoch [12/20], Training Loss: 0.462, Validation Loss: 0.536, Validation Accuracy: 83.45 %\n",
            "Epoch [13/20], Training Loss: 0.448, Validation Loss: 0.508, Validation Accuracy: 84.03 %\n",
            "Epoch [14/20], Training Loss: 0.415, Validation Loss: 0.511, Validation Accuracy: 84.25 %\n",
            "Epoch [15/20], Training Loss: 0.408, Validation Loss: 0.561, Validation Accuracy: 83.65 %\n",
            "Epoch [16/20], Training Loss: 0.383, Validation Loss: 0.460, Validation Accuracy: 85.75 %\n",
            "Epoch [17/20], Training Loss: 0.370, Validation Loss: 0.488, Validation Accuracy: 85.06 %\n",
            "Epoch [18/20], Training Loss: 0.350, Validation Loss: 0.498, Validation Accuracy: 85.31 %\n",
            "Epoch [19/20], Training Loss: 0.340, Validation Loss: 0.498, Validation Accuracy: 85.10 %\n",
            "Epoch [20/20], Training Loss: 0.329, Validation Loss: 0.466, Validation Accuracy: 86.31 %\n"
          ]
        }
      ],
      "source": [
        "import torch\n",
        "import torch.nn as nn\n",
        "import torch.optim as optim\n",
        "import torchvision\n",
        "import torchvision.transforms as transforms\n",
        "\n",
        "# Define modified AlexNet model\n",
        "class ModifiedAlexNet(nn.Module):\n",
        "    def __init__(self, num_classes=10):\n",
        "        super(ModifiedAlexNet, self).__init__()\n",
        "        self.features = nn.Sequential(\n",
        "            nn.Conv2d(3, 64, kernel_size=3, padding=1),\n",
        "            nn.ReLU(inplace=True),\n",
        "            nn.BatchNorm2d(64),\n",
        "            nn.MaxPool2d(kernel_size=2, stride=2),\n",
        "            nn.Conv2d(64, 128, kernel_size=3, padding=1),\n",
        "            nn.ReLU(inplace=True),\n",
        "            nn.BatchNorm2d(128),\n",
        "            nn.MaxPool2d(kernel_size=2, stride=2),\n",
        "            nn.Conv2d(128, 256, kernel_size=3, padding=1),\n",
        "            nn.ReLU(inplace=True),\n",
        "            nn.Conv2d(256, 256, kernel_size=3, padding=1),\n",
        "            nn.ReLU(inplace=True),\n",
        "            nn.Conv2d(256, 128, kernel_size=3, padding=1),\n",
        "            nn.ReLU(inplace=True),\n",
        "            nn.BatchNorm2d(128),\n",
        "            nn.MaxPool2d(kernel_size=2, stride=2)\n",
        "        )\n",
        "        self.classifier = nn.Sequential(\n",
        "            nn.Linear(128 * 4 * 4, 512),\n",
        "            nn.ReLU(inplace=True),\n",
        "            nn.Dropout(0.5),\n",
        "            nn.Linear(512, 256),\n",
        "            nn.Dropout(0.5),\n",
        "            nn.Linear(256, num_classes)\n",
        "        )\n",
        "\n",
        "    def forward(self, x):\n",
        "        x = self.features(x)\n",
        "        x = torch.flatten(x, 1)\n",
        "        x = self.classifier(x)\n",
        "        return x\n",
        "\n",
        "if __name__ == '__main__':\n",
        "    # Load CIFAR-10 dataset and apply transformations with data augmentation\n",
        "    transform_train = transforms.Compose([\n",
        "        transforms.RandomCrop(32, padding=4),  # Random crop with padding\n",
        "        transforms.RandomHorizontalFlip(),  # Random horizontal flip\n",
        "        transforms.ToTensor(),\n",
        "        transforms.Normalize((0.5, 0.5, 0.5), (0.5, 0.5, 0.5))\n",
        "    ])\n",
        "\n",
        "    transform_test = transforms.Compose([\n",
        "        transforms.ToTensor(),\n",
        "        transforms.Normalize((0.5, 0.5, 0.5), (0.5, 0.5, 0.5))\n",
        "    ])\n",
        "\n",
        "    trainset = torchvision.datasets.CIFAR10(root='./data', train=True, download=True, transform=transform_train)\n",
        "    trainloader = torch.utils.data.DataLoader(trainset, batch_size=128, shuffle=True, num_workers=2)\n",
        "\n",
        "    testset = torchvision.datasets.CIFAR10(root='./data', train=False, download=True, transform=transform_test)\n",
        "    testloader = torch.utils.data.DataLoader(testset, batch_size=100, shuffle=False, num_workers=2)\n",
        "\n",
        "    # Initialize the model, loss function, and optimizer\n",
        "    device = torch.device(\"cuda:0\" if torch.cuda.is_available() else \"cpu\")\n",
        "    net = ModifiedAlexNet()\n",
        "    net.to(device)\n",
        "    criterion = nn.CrossEntropyLoss()\n",
        "    optimizer = optim.Adam(net.parameters(), lr=0.001)\n",
        "\n",
        "    # Learning rate scheduler\n",
        "    scheduler = optim.lr_scheduler.StepLR(optimizer, step_size=30, gamma=0.1)  # Reduce LR by a factor of 0.1 every 30 epochs\n",
        "\n",
        "    # Training the model\n",
        "    for epoch in range(20):  # loop over the dataset multiple times\n",
        "        net.train()\n",
        "        running_loss = 0.0\n",
        "        for i, data in enumerate(trainloader, 0):\n",
        "            inputs, labels = data[0].to(device), data[1].to(device)\n",
        "            optimizer.zero_grad()\n",
        "            outputs = net(inputs)\n",
        "            loss = criterion(outputs, labels)\n",
        "            loss.backward()\n",
        "            optimizer.step()\n",
        "            running_loss += loss.item()\n",
        "        scheduler.step()  # Step the scheduler\n",
        "        net.eval()\n",
        "        correct = 0\n",
        "        total = 0\n",
        "        val_loss = 0.0\n",
        "        with torch.no_grad():\n",
        "            for data in testloader:\n",
        "                images, labels = data[0].to(device), data[1].to(device)\n",
        "                outputs = net(images)\n",
        "                _, predicted = torch.max(outputs.data, 1)\n",
        "                total += labels.size(0)\n",
        "                correct += (predicted == labels).sum().item()\n",
        "                val_loss += criterion(outputs, labels).item()\n",
        "        print(f'Epoch [{epoch + 1}/20], '\n",
        "              f'Training Loss: {running_loss / len(trainloader):.3f}, '\n",
        "              f'Validation Loss: {val_loss / len(testloader):.3f}, '\n",
        "              f'Validation Accuracy: {(100 * correct / total):.2f} %')"
      ]
    }
  ]
}